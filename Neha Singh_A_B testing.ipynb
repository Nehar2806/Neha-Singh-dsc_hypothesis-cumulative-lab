{
 "cells": [
  {
   "cell_type": "markdown",
   "metadata": {},
   "source": [
    "# A/B Testing - Lab\n",
    "\n",
    "## Introduction\n",
    "\n",
    "In this lab, you'll go through the process of designing an experiment.\n",
    "\n",
    "## Objectives\n",
    "You will be able to:\n",
    "\n",
    "* Design, structure, and run an A/B test\n",
    "\n",
    "\n",
    "## The Scenario\n",
    "\n",
    "You've been tasked with designing an experiment to test whether a new email template will be more effective for your company's marketing team. The current template has a 5% response rate (with standard deviation .0475), which has outperformed numerous other templates in the past. The company is excited to test the new design that was developed internally but nervous about losing sales if it is not to work out. As a result, they are looking to determine how many individuals they will need to serve the new email template in order to detect a 1% performance increase.\n",
    "\n",
    "\n",
    "## Step 1: State the Null Hypothesis, $H_0$"
   ]
  },
  {
   "cell_type": "markdown",
   "metadata": {},
   "source": [
    "State your null hypothesis here (be sure to make it quantitative as before)"
   ]
  },
  {
   "cell_type": "code",
   "execution_count": null,
   "metadata": {},
   "outputs": [],
   "source": [
    "# H_0 = Your null hypothesis\n",
    "H_0 = 0.05"
   ]
  },
  {
   "cell_type": "markdown",
   "metadata": {},
   "source": [
    "## Step 2: State the Alternative Hypothesis, $H_1$"
   ]
  },
  {
   "cell_type": "markdown",
   "metadata": {},
   "source": [
    "State your alternative hypothesis here (be sure to make it quantitative as before)"
   ]
  },
  {
   "cell_type": "code",
   "execution_count": null,
   "metadata": {},
   "outputs": [],
   "source": [
    "# H_1 = Your alternative hypothesis\n",
    "H_1=0.06"
   ]
  },
  {
   "cell_type": "markdown",
   "metadata": {},
   "source": [
    "## Step 3: Calculate n for standard alpha and power thresholds\n",
    "\n",
    "Now define what $\\alpha$ and $\\beta$ you believe might be appropriate for this scenario.\n",
    "To start, arbitrarily set $\\alpha$ to 0.05. From this, calculate the required sample size to detect a .01 response rate difference at a power of .8.\n",
    "\n",
    "> Note: Be sure to calculate a normalized effect size using Cohen's d from the raw response rate difference."
   ]
  },
  {
   "cell_type": "code",
   "execution_count": null,
   "metadata": {},
   "outputs": [],
   "source": [
    "# Calculate the required sample size\n",
    "n = ((1.96+0.84)*0.0475)/(0.01))^2\n",
    "=177\n",
    "sample size required = 177 per group"
   ]
  },
  {
   "cell_type": "markdown",
   "metadata": {},
   "source": [
    "## Step 4: Plot Power Curves for Alternative Experiment Formulations\n",
    "\n",
    "While you now know how many observations you need in order to run a t-test for the given formulation above, it is worth exploring what sample sizes would be required for alternative test formulations. For example, how much does the required sample size increase if you put the more stringent criteria of $\\alpha=.01$? Or what is the sample size required to detect a .03 response rate difference at the same $\\alpha$ and power thresholds? To investigate this, plot power vs sample size curves for alpha values of .01, .05 and .1 along with varying response rate differences of .005, .01, .02 and .03."
   ]
  },
  {
   "cell_type": "code",
   "execution_count": 15,
   "metadata": {},
   "outputs": [
    {
     "data": {
      "image/png": "[encoded data removed]",
      "text/plain": [
       "<Figure size 640x480 with 1 Axes>"
      ]
     },
     "metadata": {},
     "output_type": "display_data"
    }
   ],
   "source": [
    "#Your code; plot power curves for the various alpha and effect size combinations\n",
    "from statsmodels.stats.power import TTestIndPower\n",
    "import matplotlib.pyplot as plt\n",
    "\n",
    "effect_size = 0.01 / 0.0475  \n",
    "alpha = 0.05                 \n",
    "power_target = 0.8          \n",
    "\n",
    "sample_sizes = list(range(50, 1000, 25))\n",
    "\n",
    "power = TTestIndPower()\n",
    "powers = []\n",
    "\n",
    "for n in sample_sizes:\n",
    "    p = power.power(effect_size=effect_size, nobs1=n, alpha=alpha)\n",
    "    powers.append(p)\n",
    "\n",
    "\n",
    "plt.plot(sample_sizes, powers, label=\"Power Curve\")\n",
    "plt.xlabel(\"Sample Size per Group\")\n",
    "plt.ylabel(\"Power\")\n",
    "plt.show()"
   ]
  },
  {
   "cell_type": "markdown",
   "metadata": {},
   "source": [
    "## Step 5: Propose a Final Experimental Design\n",
    "\n",
    "Finally, now that you've explored some of the various sample sizes required for statistical tests of varying power, effect size and type I errors, propose an experimental design to pitch to your boss and some of the accompanying advantages or disadvantages with it."
   ]
  },
  {
   "cell_type": "markdown",
   "metadata": {},
   "source": [
    "### Your answer here"
   ]
  },
  {
   "cell_type": "code",
   "execution_count": 17,
   "metadata": {},
   "outputs": [
    {
     "data": {
      "text/plain": [
       "'Experiment \\n•\\tTest Type: A/B Test\\n•\\tGroups:\\nGroup A – current email\\nGroup B – new email\\n•\\tPeople per group: 177\\n•\\tTotal people: 354\\n•\\tDifference to detect: 1% improvement\\n•\\tConfidence level: 95% ( alpha = 0.05)\\n•\\tPower: 80% \\n•\\tResult we will measure: How many people respond /n\\n\\nWhy design is good\\nIt tells us clearly if the new design works or not.\\nUses just the approx — not too many, not too few.\\nKeeps the chance of wrong results low.\\n\\n'"
      ]
     },
     "execution_count": 17,
     "metadata": {},
     "output_type": "execute_result"
    }
   ],
   "source": [
    "\"\"\"Experiment \n",
    "•\tTest Type: A/B Test\n",
    "•\tGroups:\n",
    "Group A – current email\n",
    "Group B – new email\n",
    "•\tPeople per group: 177\n",
    "•\tTotal people: 354\n",
    "•\tDifference to detect: 1% improvement\n",
    "•\tConfidence level: 95% ( alpha = 0.05)\n",
    "•\tPower: 80% \n",
    "•\tResult we will measure: How many people respond \n",
    "\n",
    "Why design is good\n",
    "It tells us clearly if the new design works or not.\n",
    "Uses just the approx — not too many, not too few.\n",
    "Keeps the chance of wrong results low.\n",
    "\n",
    "\"\"\"\n",
    "\n"
   ]
  },
  {
   "cell_type": "markdown",
   "metadata": {},
   "source": [
    "## Summary\n",
    "\n",
    "In this lab, you practiced designing an initial experiment and then refined the parameters of the experiment based on an initial sample to determine feasibility."
   ]
  }
 ],
 "metadata": {
  "kernelspec": {
   "display_name": "Python 3 (ipykernel)",
   "language": "python",
   "name": "python3"
  },
  "language_info": {
   "codemirror_mode": {
    "name": "ipython",
    "version": 3
   },
   "file_extension": ".py",
   "mimetype": "text/x-python",
   "name": "python",
   "nbconvert_exporter": "python",
   "pygments_lexer": "ipython3",
   "version": "3.12.7"
  },
  "toc": {
   "base_numbering": 1,
   "nav_menu": {},
   "number_sections": true,
   "sideBar": true,
   "skip_h1_title": false,
   "title_cell": "Table of Contents",
   "title_sidebar": "Contents",
   "toc_cell": false,
   "toc_position": {},
   "toc_section_display": true,
   "toc_window_display": false
  }
 },
 "nbformat": 4,
 "nbformat_minor": 4
}
